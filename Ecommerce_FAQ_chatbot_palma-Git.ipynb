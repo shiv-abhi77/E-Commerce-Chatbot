{
 "cells": [
  {
   "cell_type": "markdown",
   "id": "f972f82d",
   "metadata": {},
   "source": [
    "### Basic working of Google Palm LLM in LangChain"
   ]
  },
  {
   "cell_type": "code",
   "execution_count": 1,
   "id": "bb2d0f3c-9cae-4998-b03d-57f0bd1fd085",
   "metadata": {
    "tags": []
   },
   "outputs": [],
   "source": [
    "#!pip install --user google-generativeai torch"
   ]
  },
  {
   "cell_type": "code",
   "execution_count": 2,
   "id": "f9d84fb5-5ef6-4395-8096-db374188c788",
   "metadata": {
    "tags": []
   },
   "outputs": [],
   "source": [
    "#!pip install -U sentence-transformers\n"
   ]
  },
  {
   "cell_type": "code",
   "execution_count": 3,
   "id": "ea420647-e7b9-441f-b742-7173f999742f",
   "metadata": {
    "tags": []
   },
   "outputs": [],
   "source": [
    "#!pip install InstructorEmbedding"
   ]
  },
  {
   "cell_type": "code",
   "execution_count": 4,
   "id": "20937938-f6c4-4d5b-bb87-305a12bf7624",
   "metadata": {
    "tags": []
   },
   "outputs": [],
   "source": [
    "#!pip install --upgrade ipywidgets\n",
    "#jupyter nbextension enable --py widgetsnbextension"
   ]
  },
  {
   "cell_type": "code",
   "execution_count": 2,
   "id": "a34aa70b",
   "metadata": {
    "tags": []
   },
   "outputs": [],
   "source": [
    "import tqdm as notebook_tqdm\n",
    "from langchain.llms import GooglePalm\n",
    "\n",
    "api_key = 'GOOGLE_API_KEY' # get this free api key from https://makersuite.google.com/\n",
    "\n",
    "llm = GooglePalm(google_api_key=api_key, temperature=0.1)"
   ]
  },
  {
   "cell_type": "code",
   "execution_count": 3,
   "id": "2b610123",
   "metadata": {
    "tags": []
   },
   "outputs": [
    {
     "name": "stdout",
     "output_type": "stream",
     "text": [
      "Vada pav, oh vada pav,\n",
      "You're the best snack in the land.\n",
      "Your crispy shell, your soft filling,\n",
      "Your tangy sauce, they make me sing.\n"
     ]
    }
   ],
   "source": [
    "poem = llm(\"Write a 4 line poem of my love for vadapaw\")\n",
    "print(poem)"
   ]
  },
  {
   "cell_type": "code",
   "execution_count": 7,
   "id": "c235a80e",
   "metadata": {
    "scrolled": true,
    "tags": []
   },
   "outputs": [
    {
     "name": "stdout",
     "output_type": "stream",
     "text": [
      "Dear [Hiring Manager name],\n",
      "\n",
      "I am writing to express my interest in the [job title] position that I saw advertised on [website]. I have been working in the [industry] industry for [number] years, and I have a proven track record of success in [list of accomplishments].\n",
      "\n",
      "In my previous role at [company name], I was responsible for [list of responsibilities]. I successfully managed a team of [number] employees and achieved [list of results]. I am confident that I have the skills and experience that you are looking for in a [job title].\n",
      "\n",
      "I am eager to learn more about the [job title] position and how I can contribute to your team. I am available for an interview at your earliest convenience.\n",
      "\n",
      "Thank you for your time and consideration.\n",
      "\n",
      "Sincerely,\n",
      "[Your name]\n"
     ]
    }
   ],
   "source": [
    "essay = llm(\"write email to recruter for interview\")\n",
    "print(essay)"
   ]
  },
  {
   "cell_type": "code",
   "execution_count": 22,
   "id": "706326c8-9e7a-48f9-bbf8-8e39be8e6423",
   "metadata": {
    "tags": []
   },
   "outputs": [
    {
     "name": "stdout",
     "output_type": "stream",
     "text": [
      "Data has been saved as CSV in Ecommerce_FAQ_Chatbot_dataset.csv\n"
     ]
    }
   ],
   "source": [
    "import json\n",
    "import csv\n",
    "\n",
    "# Specify the path to your JSON file\n",
    "file_path = 'Ecommerce_FAQ_Chatbot_dataset.json'\n",
    "\n",
    "# Load the JSON data\n",
    "with open(file_path, 'r', encoding='utf-8') as json_file:\n",
    "    data = json.load(json_file)\n",
    "\n",
    "# Create a list to store question and answer pairs\n",
    "questions_and_answers = []\n",
    "\n",
    "# Access and process the questions and answers\n",
    "for question_data in data['questions']:\n",
    "    question = question_data['question']\n",
    "    answer = question_data['answer']\n",
    "    questions_and_answers.append((question, answer))\n",
    "\n",
    "# Specify the CSV output file name\n",
    "csv_file = 'Ecommerce_FAQ_Chatbot_dataset.csv'\n",
    "\n",
    "# Write the data to a CSV file\n",
    "with open(csv_file, 'w', newline='', encoding='utf-8') as csvfile:\n",
    "    csv_writer = csv.writer(csvfile)\n",
    "    \n",
    "    # Write the header row\n",
    "    csv_writer.writerow(['Question', 'Answer'])\n",
    "    \n",
    "    # Write the question and answer pairs\n",
    "    csv_writer.writerows(questions_and_answers)\n",
    "\n",
    "print(\"Data has been saved as CSV in\", csv_file)\n"
   ]
  },
  {
   "cell_type": "code",
   "execution_count": 23,
   "id": "f8877d7e-24cb-40f3-bed6-54e93f5bedce",
   "metadata": {
    "tags": []
   },
   "outputs": [
    {
     "data": {
      "text/html": [
       "<div>\n",
       "<style scoped>\n",
       "    .dataframe tbody tr th:only-of-type {\n",
       "        vertical-align: middle;\n",
       "    }\n",
       "\n",
       "    .dataframe tbody tr th {\n",
       "        vertical-align: top;\n",
       "    }\n",
       "\n",
       "    .dataframe thead th {\n",
       "        text-align: right;\n",
       "    }\n",
       "</style>\n",
       "<table border=\"1\" class=\"dataframe\">\n",
       "  <thead>\n",
       "    <tr style=\"text-align: right;\">\n",
       "      <th></th>\n",
       "      <th>Question</th>\n",
       "      <th>Answer</th>\n",
       "    </tr>\n",
       "  </thead>\n",
       "  <tbody>\n",
       "    <tr>\n",
       "      <th>0</th>\n",
       "      <td>How can I create an account?</td>\n",
       "      <td>To create an account, click on the 'Sign Up' b...</td>\n",
       "    </tr>\n",
       "    <tr>\n",
       "      <th>1</th>\n",
       "      <td>What payment methods do you accept?</td>\n",
       "      <td>We accept major credit cards, debit cards, and...</td>\n",
       "    </tr>\n",
       "    <tr>\n",
       "      <th>2</th>\n",
       "      <td>How can I track my order?</td>\n",
       "      <td>You can track your order by logging into your ...</td>\n",
       "    </tr>\n",
       "    <tr>\n",
       "      <th>3</th>\n",
       "      <td>What is your return policy?</td>\n",
       "      <td>Our return policy allows you to return product...</td>\n",
       "    </tr>\n",
       "    <tr>\n",
       "      <th>4</th>\n",
       "      <td>Can I cancel my order?</td>\n",
       "      <td>You can cancel your order if it has not been s...</td>\n",
       "    </tr>\n",
       "  </tbody>\n",
       "</table>\n",
       "</div>"
      ],
      "text/plain": [
       "                              Question  \\\n",
       "0         How can I create an account?   \n",
       "1  What payment methods do you accept?   \n",
       "2            How can I track my order?   \n",
       "3          What is your return policy?   \n",
       "4               Can I cancel my order?   \n",
       "\n",
       "                                              Answer  \n",
       "0  To create an account, click on the 'Sign Up' b...  \n",
       "1  We accept major credit cards, debit cards, and...  \n",
       "2  You can track your order by logging into your ...  \n",
       "3  Our return policy allows you to return product...  \n",
       "4  You can cancel your order if it has not been s...  "
      ]
     },
     "execution_count": 23,
     "metadata": {},
     "output_type": "execute_result"
    }
   ],
   "source": [
    "data = pd.read_csv(\"Ecommerce_FAQ_Chatbot_dataset.csv\")\n",
    "data.head()"
   ]
  },
  {
   "cell_type": "code",
   "execution_count": 12,
   "id": "227816a9",
   "metadata": {
    "tags": []
   },
   "outputs": [],
   "source": [
    "from langchain.chains import RetrievalQA\n",
    "\n",
    "\n",
    "from langchain.embeddings import GooglePalmEmbeddings\n",
    "from langchain.llms import GooglePalm"
   ]
  },
  {
   "cell_type": "markdown",
   "id": "765695b5",
   "metadata": {},
   "source": [
    "### Now let's load data from Amazon FAQ csv file"
   ]
  },
  {
   "cell_type": "code",
   "execution_count": 26,
   "id": "0c62e35c",
   "metadata": {
    "tags": []
   },
   "outputs": [],
   "source": [
    "from langchain.document_loaders.csv_loader import CSVLoader\n",
    "\n",
    "loader = CSVLoader(file_path='Ecommerce_FAQ_Chatbot_dataset.csv',source_column=\"Question\")\n",
    "\n",
    "# Store the loaded data in the 'data' variable , source_column=\"question\"\n",
    "data = loader.load()"
   ]
  },
  {
   "cell_type": "code",
   "execution_count": 28,
   "id": "39c67c65-6b57-428e-a9a1-dfa52ed29ab0",
   "metadata": {
    "tags": []
   },
   "outputs": [
    {
     "data": {
      "text/plain": [
       "Document(page_content='Question: What payment methods do you accept?\\nAnswer: We accept major credit cards, debit cards, and PayPal as payment methods for online orders.', metadata={'source': 'What payment methods do you accept?', 'row': 1})"
      ]
     },
     "execution_count": 28,
     "metadata": {},
     "output_type": "execute_result"
    }
   ],
   "source": [
    "data[1]"
   ]
  },
  {
   "cell_type": "markdown",
   "id": "4dd45e51",
   "metadata": {},
   "source": [
    "### Hugging Face Embeddings"
   ]
  },
  {
   "cell_type": "code",
   "execution_count": 30,
   "id": "04a4de8c",
   "metadata": {
    "tags": []
   },
   "outputs": [
    {
     "name": "stdout",
     "output_type": "stream",
     "text": [
      "load INSTRUCTOR_Transformer\n",
      "max_seq_length  512\n"
     ]
    }
   ],
   "source": [
    "from langchain.embeddings import HuggingFaceInstructEmbeddings\n",
    "\n",
    "# Initialize instructor embeddings using the Hugging Face model\n",
    "instructor_embeddings = HuggingFaceInstructEmbeddings()\n",
    "\n",
    "e = instructor_embeddings.embed_query(\"What payment methods do you accept?\")"
   ]
  },
  {
   "cell_type": "code",
   "execution_count": 23,
   "id": "0762eeac",
   "metadata": {
    "tags": []
   },
   "outputs": [
    {
     "data": {
      "text/plain": [
       "768"
      ]
     },
     "execution_count": 23,
     "metadata": {},
     "output_type": "execute_result"
    }
   ],
   "source": [
    "len(e)"
   ]
  },
  {
   "cell_type": "code",
   "execution_count": 31,
   "id": "e6fab6ce",
   "metadata": {
    "tags": []
   },
   "outputs": [
    {
     "data": {
      "text/plain": [
       "[-0.05164218693971634,\n",
       " -0.015128973871469498,\n",
       " -0.035818688571453094,\n",
       " -0.02933351881802082,\n",
       " 0.038490913808345795]"
      ]
     },
     "execution_count": 31,
     "metadata": {},
     "output_type": "execute_result"
    }
   ],
   "source": [
    "e[:5]"
   ]
  },
  {
   "cell_type": "markdown",
   "id": "e571c0d2",
   "metadata": {},
   "source": [
    "As you can see above, embedding for a sentance \"What is your refund policy\" is a list of size 768. Looking at the numbers in this list, doesn't give any intuitive understanding of what it is but just assume that these numbers are capturing the meaning of \"What is your refund policy\". If you are curious to know about embeddings, go to youtube and search \"codebasics word embeddings\" and you will find bunch of videos with simple, intuitive explanations"
   ]
  },
  {
   "cell_type": "markdown",
   "id": "cc80a28a",
   "metadata": {},
   "source": [
    "### Vector store using FAISS"
   ]
  },
  {
   "cell_type": "code",
   "execution_count": 32,
   "id": "b3c706da",
   "metadata": {
    "tags": []
   },
   "outputs": [],
   "source": [
    "from langchain.vectorstores import FAISS\n",
    "\n",
    "# Create a FAISS instance for vector database from 'data'\n",
    "vectordb = FAISS.from_documents(documents=data,\n",
    "                                 embedding=instructor_embeddings)\n",
    "\n",
    "# Create a retriever for querying the vector database\n",
    "retriever = vectordb.as_retriever(score_threshold = 0.7)"
   ]
  },
  {
   "cell_type": "code",
   "execution_count": 33,
   "id": "cfd58f6f",
   "metadata": {
    "tags": []
   },
   "outputs": [
    {
     "data": {
      "text/plain": [
       "[Document(page_content='Question: What payment methods do you accept?\\nAnswer: We accept major credit cards, debit cards, and PayPal as payment methods for online orders.', metadata={'source': 'What payment methods do you accept?', 'row': 1}),\n",
       " Document(page_content='Question: Are my personal and payment details secure?\\nAnswer: Yes, we take the security of your personal and payment details seriously. We use industry-standard encryption and follow strict security protocols to ensure your information is protected.', metadata={'source': 'Are my personal and payment details secure?', 'row': 13}),\n",
       " Document(page_content='Question: Can I request an invoice for my order?\\nAnswer: Yes, an invoice is usually included with your order. If you require a separate invoice, please contact our customer support team with your order details.', metadata={'source': 'Can I request an invoice for my order?', 'row': 37}),\n",
       " Document(page_content='Question: Can I order by phone?\\nAnswer: Unfortunately, we do not accept orders over the phone. Please place your order through our website for a smooth and secure transaction.', metadata={'source': 'Can I order by phone?', 'row': 12})]"
      ]
     },
     "execution_count": 33,
     "metadata": {},
     "output_type": "execute_result"
    }
   ],
   "source": [
    "rdocs = retriever.get_relevant_documents(\"What payment methods do you accept?\")\n",
    "rdocs"
   ]
  },
  {
   "cell_type": "markdown",
   "id": "4cf6b257",
   "metadata": {},
   "source": [
    "As you can see above, the retriever that was created using FAISS and hugging face embedding is now capable of pulling relavant documents from our original CSV file knowledge store. This is very powerful and it will help us further in our project"
   ]
  },
  {
   "cell_type": "markdown",
   "id": "45bee857",
   "metadata": {},
   "source": [
    "##### Embeddings can be created using GooglePalm too. Also for vector database you can use chromadb as well as shown below. During our experimentation, we found hugging face embeddings and FAISS to be more appropriate for our use case"
   ]
  },
  {
   "cell_type": "code",
   "execution_count": 14,
   "id": "a93d079d",
   "metadata": {},
   "outputs": [],
   "source": [
    "# google_palm_embeddings = GooglePalmEmbeddings(google_api_key=api_key)\n",
    "\n",
    "# from langchain.vectorstores import Chroma\n",
    "# vectordb = Chroma.from_documents(data,\n",
    "#                            embedding=google_palm_embeddings,\n",
    "#                            persist_directory='./chromadb')\n",
    "# vectordb.persist()"
   ]
  },
  {
   "cell_type": "markdown",
   "id": "02f3d927",
   "metadata": {},
   "source": [
    "### Create RetrievalQA chain along with prompt template 🚀"
   ]
  },
  {
   "cell_type": "code",
   "execution_count": 37,
   "id": "2d4842c8",
   "metadata": {
    "tags": []
   },
   "outputs": [],
   "source": [
    "from langchain.prompts import PromptTemplate\n",
    "\n",
    "prompt_template = \"\"\"Given the following context and a question, generate an answer based on this context only.\n",
    "In the answer try to provide as much text as possible from \"response\" section in the source document context without making much changes.\n",
    "If the answer is not found in the context, kindly state \"I don't know.\" Don't try to make up an answer.\n",
    "\n",
    "CONTEXT: {context}\n",
    "\n",
    "QUESTION: {question}\"\"\"\n",
    "\n",
    "\n",
    "PROMPT = PromptTemplate(\n",
    "    template=prompt_template, input_variables=[\"context\", \"question\"]\n",
    ")\n",
    "chain_type_kwargs = {\"prompt\": PROMPT}\n",
    "\n",
    "\n",
    "from langchain.chains import RetrievalQA\n",
    "\n",
    "chain = RetrievalQA.from_chain_type(llm=llm,\n",
    "                            chain_type=\"stuff\",\n",
    "                            retriever=retriever,\n",
    "                            input_key=\"query\",\n",
    "                            #return_source_documents=True,\n",
    "                            chain_type_kwargs=chain_type_kwargs)\n"
   ]
  },
  {
   "cell_type": "markdown",
   "id": "152a4cf8",
   "metadata": {},
   "source": [
    "### We are all set 👍🏼 Let's ask some questions now"
   ]
  },
  {
   "cell_type": "code",
   "execution_count": 38,
   "id": "90166e8d",
   "metadata": {
    "tags": []
   },
   "outputs": [
    {
     "data": {
      "text/plain": [
       "{'query': 'What payment methods do you accept?',\n",
       " 'result': 'We accept major credit cards, debit cards, and PayPal as payment methods for online orders.'}"
      ]
     },
     "execution_count": 38,
     "metadata": {},
     "output_type": "execute_result"
    }
   ],
   "source": [
    "chain('What payment methods do you accept?')"
   ]
  },
  {
   "cell_type": "markdown",
   "id": "b3a4e3e4",
   "metadata": {},
   "source": [
    "**As you can see above, the answer of question comes from two different FAQs within our csv file and it is able to pull those questions and merge them nicely**"
   ]
  },
  {
   "cell_type": "code",
   "execution_count": 39,
   "id": "82dce73e",
   "metadata": {
    "tags": []
   },
   "outputs": [
    {
     "data": {
      "text/plain": [
       "{'query': 'Do you guys offer EMI payments?',\n",
       " 'result': 'Yes, we offer EMI payments on all orders above Rs. 5000.'}"
      ]
     },
     "execution_count": 39,
     "metadata": {},
     "output_type": "execute_result"
    }
   ],
   "source": [
    "chain(\"Do you guys offer EMI payments?\")"
   ]
  },
  {
   "cell_type": "code",
   "execution_count": 40,
   "id": "48970302",
   "metadata": {
    "tags": []
   },
   "outputs": [
    {
     "data": {
      "text/plain": [
       "{'query': 'How can I track my order?',\n",
       " 'result': \"\\nAnswer: You can track your order by logging into your account and navigating to the 'Order History' section. There, you will find the tracking information for your shipment.\"}"
      ]
     },
     "execution_count": 40,
     "metadata": {},
     "output_type": "execute_result"
    }
   ],
   "source": [
    "chain(\"How can I track my order?\")"
   ]
  },
  {
   "cell_type": "code",
   "execution_count": 41,
   "id": "c17dc6c3",
   "metadata": {
    "tags": []
   },
   "outputs": [
    {
     "data": {
      "text/plain": [
       "{'query': 'What is your return policy?',\n",
       " 'result': 'Response: We offer a 30-day return policy on all products. If you are not satisfied with your purchase, you can return it for a full refund.'}"
      ]
     },
     "execution_count": 41,
     "metadata": {},
     "output_type": "execute_result"
    }
   ],
   "source": [
    "chain(\"What is your return policy?\")"
   ]
  },
  {
   "cell_type": "code",
   "execution_count": 42,
   "id": "0c35c2c3",
   "metadata": {
    "tags": []
   },
   "outputs": [
    {
     "data": {
      "text/plain": [
       "{'query': 'tell me about return policy?',\n",
       " 'result': 'Our return policy allows you to return products within 30 days of purchase for a full refund, provided they are in their original condition and packaging. Please refer to our Returns page for detailed instructions.'}"
      ]
     },
     "execution_count": 42,
     "metadata": {},
     "output_type": "execute_result"
    }
   ],
   "source": [
    "chain(\"tell me about return policy?\")"
   ]
  },
  {
   "cell_type": "code",
   "execution_count": 43,
   "id": "a054c5ff",
   "metadata": {
    "tags": []
   },
   "outputs": [
    {
     "data": {
      "text/plain": [
       "{'query': 'How long does shipping take?',\n",
       " 'result': '\\nAnswer: Shipping times vary depending on the destination and the shipping method chosen. Standard shipping usually takes 3-5 business days, while express shipping can take 1-2 business days.'}"
      ]
     },
     "execution_count": 43,
     "metadata": {},
     "output_type": "execute_result"
    }
   ],
   "source": [
    "chain(\"How long does shipping take?\")"
   ]
  },
  {
   "cell_type": "code",
   "execution_count": 45,
   "id": "89fa5d10",
   "metadata": {
    "tags": []
   },
   "outputs": [
    {
     "data": {
      "text/plain": [
       "{'query': 'Can I plase order by my phone?',\n",
       " 'result': 'Unfortunately, we do not accept orders over the phone. Please place your order through our website for a smooth and secure transaction.'}"
      ]
     },
     "execution_count": 45,
     "metadata": {},
     "output_type": "execute_result"
    }
   ],
   "source": [
    "chain(\"Can I plase order by my phone?\")"
   ]
  },
  {
   "cell_type": "code",
   "execution_count": 46,
   "id": "c6539e58",
   "metadata": {
    "tags": []
   },
   "outputs": [
    {
     "data": {
      "text/plain": [
       "{'query': 'How can I create an account?',\n",
       " 'result': \"\\nAnswer: To create an account, click on the 'Sign Up' button on the top right corner of our website and follow the instructions to complete the registration process.\"}"
      ]
     },
     "execution_count": 46,
     "metadata": {},
     "output_type": "execute_result"
    }
   ],
   "source": [
    "chain(\"How can I create an account?\")"
   ]
  },
  {
   "cell_type": "code",
   "execution_count": null,
   "id": "f507b581-e9bd-43ed-8306-8dc99f84fd4a",
   "metadata": {},
   "outputs": [],
   "source": []
  }
 ],
 "metadata": {
  "kernelspec": {
   "display_name": "Python 3 (ipykernel)",
   "language": "python",
   "name": "python3"
  },
  "language_info": {
   "codemirror_mode": {
    "name": "ipython",
    "version": 3
   },
   "file_extension": ".py",
   "mimetype": "text/x-python",
   "name": "python",
   "nbconvert_exporter": "python",
   "pygments_lexer": "ipython3",
   "version": "3.9.13"
  }
 },
 "nbformat": 4,
 "nbformat_minor": 5
}
